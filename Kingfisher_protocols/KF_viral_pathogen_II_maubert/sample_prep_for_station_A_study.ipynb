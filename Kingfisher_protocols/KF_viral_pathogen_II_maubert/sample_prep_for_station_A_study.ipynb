{
 "cells": [
  {
   "cell_type": "markdown",
   "metadata": {},
   "source": [
    "# Sample prep from covid19clinic"
   ]
  },
  {
   "cell_type": "code",
   "execution_count": null,
   "metadata": {},
   "outputs": [],
   "source": [
    "# v 0.1 : Adaptation by B. MAUBERT . Import our own definition of KF deepwell.\n",
    "# J'ai décidé d'adapter ce script avec mes fonctions gérant notre ordre de travail.\n",
    "# v 0.2 : avancées diverses \n",
    "# v 0.3 : BUT mettre en place la fonction de distribution du reactif de lyse\n",
    "# v 0.4 : Adaptation pour la simulation\n",
    "# v 0.5 : Distribuer le réactif depuis un tube conique ; \n",
    "# v 0.6 : function to calculate the height of pipetting in a conical bottom vial; This function use a model and \n",
    "# result is corrected with measured data\n",
    "# Add a loop to distribute the same reagent in many wells. The height of pipetting in the source will decrease at\n",
    "# each pipetting occurence. "
   ]
  },
  {
   "cell_type": "code",
   "execution_count": null,
   "metadata": {},
   "outputs": [],
   "source": [
    "import math\n",
    "import opentrons\n",
    "\n",
    "from opentrons.types import Point\n",
    "from opentrons import protocol_api\n",
    "import time\n",
    "import os\n",
    "from timeit import default_timer as timer\n",
    "import json\n",
    "from datetime import datetime\n",
    "import csv\n",
    "import json"
   ]
  },
  {
   "cell_type": "markdown",
   "metadata": {},
   "source": [
    "# To use Jupyter-notebook, we add theses lines "
   ]
  },
  {
   "cell_type": "code",
   "execution_count": null,
   "metadata": {},
   "outputs": [],
   "source": [
    "import opentrons.execute\n",
    "from opentrons import protocol_api\n",
    "from opentrons import simulate"
   ]
  },
  {
   "cell_type": "markdown",
   "metadata": {},
   "source": [
    "# Direct access to OT-2 or simulation ?"
   ]
  },
  {
   "cell_type": "code",
   "execution_count": null,
   "metadata": {},
   "outputs": [],
   "source": [
    "simulation = True"
   ]
  },
  {
   "cell_type": "markdown",
   "metadata": {},
   "source": [
    "# Improve the protocol class\n",
    "In a simulation mode, you see the result this way \n",
    "so we are gooing to add a methode to ctx (an isntance of the opentrons.protocol_api.protocol_context.ProtocolContext class. you cas do it as following : "
   ]
  },
  {
   "cell_type": "code",
   "execution_count": null,
   "metadata": {},
   "outputs": [],
   "source": [
    "def print_simulation_result(self,):\n",
    "    for line in self.commands():\n",
    "        print(line)"
   ]
  },
  {
   "cell_type": "code",
   "execution_count": null,
   "metadata": {},
   "outputs": [],
   "source": [
    "if simulation: \n",
    "    ctx = simulate.get_protocol_api('2.9')\n",
    "    # Surcharger la fonction comment()\n",
    "    ctx.comment = print\n",
    "    opentrons.protocol_api.protocol_context.ProtocolContext.messages = print_simulation_result \n",
    "else:\n",
    "    ctx = protocol_api.get_protocol_api('2.9')"
   ]
  },
  {
   "cell_type": "code",
   "execution_count": null,
   "metadata": {},
   "outputs": [],
   "source": [
    "from ot_2_functions import *"
   ]
  },
  {
   "cell_type": "code",
   "execution_count": null,
   "metadata": {},
   "outputs": [],
   "source": []
  },
  {
   "cell_type": "code",
   "execution_count": null,
   "metadata": {},
   "outputs": [],
   "source": []
  },
  {
   "cell_type": "markdown",
   "metadata": {},
   "source": [
    "Now, you can use : "
   ]
  },
  {
   "cell_type": "code",
   "execution_count": null,
   "metadata": {},
   "outputs": [],
   "source": [
    "ctx.messages()"
   ]
  },
  {
   "cell_type": "markdown",
   "metadata": {},
   "source": [
    "# Starting to move OT-2"
   ]
  },
  {
   "cell_type": "code",
   "execution_count": null,
   "metadata": {},
   "outputs": [],
   "source": [
    "ctx.home()"
   ]
  },
  {
   "cell_type": "code",
   "execution_count": null,
   "metadata": {},
   "outputs": [],
   "source": [
    "# metadata\n",
    "metadata = {\n",
    "    'protocolName': 'S2 Station A Kingfisher Version 2',\n",
    "    'author': 'Eva González & José Luis Villanueva (jlvillanueva@clinic.cat)',\n",
    "    'source': 'Hospital Clínic Barcelona',\n",
    "    'apiLevel': '2.9',  # Original 2.0\n",
    "    'description': 'Protocol for Kingfisher sample setup (A) - Viral/Pathogen II Kit (ref A48383)'\n",
    "}\n",
    "\n",
    "'''\n",
    "'technician': '$technician',\n",
    "'date': '$date'\n",
    "'''"
   ]
  },
  {
   "cell_type": "code",
   "execution_count": null,
   "metadata": {},
   "outputs": [],
   "source": [
    "#Defined variables\n",
    "##################\n",
    "NUM_SAMPLES = 80\n",
    "five_ml_rack = False\n",
    "\n",
    "air_gap_vol = 50  # 15 \n",
    "\n",
    "volume_sample = 200    # 400\n",
    "x_offset = [0, 0] \n",
    "\n",
    "# Screwcap variables\n",
    "diameter_screwcap = 8.25  # Diameter of the screwcap\n",
    "volume_cone = 50  # Volume in ul that fit in the screwcap cone\n",
    "\n",
    "# Calculated variables\n",
    "area_section_screwcap = (math.pi * diameter_screwcap**2) / 4\n",
    "h_cone = (volume_cone * 3 / area_section_screwcap)\n",
    "screwcap_cross_section_area = math.pi * diameter_screwcap**2 / 4  # screwcap cross section area"
   ]
  },
  {
   "cell_type": "code",
   "execution_count": null,
   "metadata": {},
   "outputs": [],
   "source": [
    "# Define the STEPS of the protocol\n",
    "STEP = 0\n",
    "STEPS = {  # Dictionary with STEP activation, description, and times\n",
    "    1: {'Execute': True, 'description': 'Add samples (200 ul)'},\n",
    "}\n",
    "\n",
    "for s in STEPS:  # Create an empty wait_time\n",
    "    if 'wait_time' not in STEPS[s]:\n",
    "        STEPS[s]['wait_time'] = 0   "
   ]
  },
  {
   "cell_type": "code",
   "execution_count": null,
   "metadata": {},
   "outputs": [],
   "source": [
    "# Creating a log file\n",
    "if not ctx.is_simulating():\n",
    "    print(\"ctx is a real OT-2\")\n",
    "    # Folder and file_path for log time\n",
    "    folder_path = '/var/lib/jupyter/notebooks'\n",
    "    if not os.path.isdir(folder_path):\n",
    "        os.mkdir(folder_path)\n",
    "    #file_path = folder_path + '/KA_SampleSetup_pathogen_time_log.txt' \n",
    "    file_path = folder_path + '/KA_SampleSetup_viral_path2_time_log.txt'\n",
    "else:\n",
    "    print(\"ctx is a simulation : no log\")"
   ]
  },
  {
   "cell_type": "code",
   "execution_count": null,
   "metadata": {},
   "outputs": [],
   "source": []
  },
  {
   "cell_type": "code",
   "execution_count": null,
   "metadata": {},
   "outputs": [],
   "source": [
    "samples = Reagent(name = 'Samples',\n",
    "                  flow_rate_aspirate = 1,\n",
    "                  flow_rate_dispense = 1,\n",
    "                  rinse = False,\n",
    "                  delay = 0,\n",
    "                  reagent_reservoir_volume = 700 * 24,\n",
    "                  num_wells = 24,  # num_cols comes from available columns\n",
    "                  h_cono = 4,\n",
    "                  v_fondo = 4 * math.pi * 4**3 / 3\n",
    "                  )  # Sphere\n",
    "\n",
    "samples.vol_well = 700"
   ]
  },
  {
   "cell_type": "code",
   "execution_count": null,
   "metadata": {},
   "outputs": [],
   "source": []
  },
  {
   "cell_type": "code",
   "execution_count": null,
   "metadata": {},
   "outputs": [],
   "source": []
  },
  {
   "cell_type": "code",
   "execution_count": null,
   "metadata": {},
   "outputs": [],
   "source": []
  },
  {
   "cell_type": "code",
   "execution_count": null,
   "metadata": {},
   "outputs": [],
   "source": []
  },
  {
   "cell_type": "code",
   "execution_count": null,
   "metadata": {},
   "outputs": [],
   "source": [
    "def move_vol_multichannel(pipet, reagent, source, dest, vol, air_gap_vol, x_offset,\n",
    "                   pickup_height, rinse, disp_height, blow_out, touch_tip, verbose = False):\n",
    "    '''\n",
    "    x_offset: list with two values. x_offset in source and x_offset in destination i.e. [-1,1]\n",
    "    pickup_height: height from bottom where volume\n",
    "    rinse: if True it will do 2 rounds of aspirate and dispense before the tranfer\n",
    "    disp_height: dispense height; by default it's close to the top (z=-2), but in case it is needed it can be lowered\n",
    "    blow_out, touch_tip: if True they will be done after dispensing\n",
    "    '''\n",
    "    def help(msg):\n",
    "        if verbose: \n",
    "            input(msg)\n",
    "            \n",
    "    # Rinse before aspirating\n",
    "    \n",
    "    if rinse == True:\n",
    "        custom_mix(pipet, reagent, location = source, vol = vol,\n",
    "                   rounds = 2, blow_out = True, mix_height = 0,\n",
    "                   x_offset = x_offset)\n",
    "    # SOURCE\n",
    "    s = source.bottom(pickup_height).move(Point(x = x_offset[0]))\n",
    "    \n",
    "    pipet.aspirate(vol, s, rate = reagent.flow_rate_aspirate)  # aspirate liquid\n",
    "    \n",
    "    help(\"after aspirate ... suite\")\n",
    "    \n",
    "    if air_gap_vol != 0:  # If there is air_gap_vol, switch pipette to slow speed\n",
    "        pipet.aspirate(air_gap_vol, source.top(z = -3),\n",
    "                       rate = reagent.flow_rate_aspirate)  # air gap\n",
    "    help(\"after air_gap ....continuer\")\n",
    "    \n",
    "    # GO TO DESTINATION\n",
    "    drop = dest.top(z = disp_height).move(Point(x = x_offset[1]))\n",
    "    \n",
    "    print(drop)\n",
    "    help(\"after drop : continuer\");\n",
    "    \n",
    "    pipet.dispense(vol + air_gap_vol, drop,\n",
    "                   rate = reagent.flow_rate_dispense)  # dispense all\n",
    "    help(\"after dispense.... continuer\")\n",
    "    ctx.delay(seconds = reagent.delay) # pause for x seconds depending on reagent\n",
    "    \n",
    "    if blow_out == True:\n",
    "        pipet.blow_out(dest.top(z = -5))\n",
    "        help(\"End of blow_out\")\n",
    "        \n",
    "    if touch_tip == True:\n",
    "        pipet.touch_tip(radius = 0.9, speed = 20, v_offset = -5)\n",
    "        help(\"End of touch tip\")"
   ]
  },
  {
   "cell_type": "code",
   "execution_count": null,
   "metadata": {},
   "outputs": [],
   "source": []
  },
  {
   "cell_type": "code",
   "execution_count": null,
   "metadata": {},
   "outputs": [],
   "source": [
    "def custom_mix(pipet, reagent, location, vol, rounds, blow_out, mix_height,\n",
    "x_offset, source_height = 3):\n",
    "    '''\n",
    "    Function for mixing a given [vol] in the same [location] a x number of [rounds].\n",
    "    blow_out: Blow out optional [True, False]\n",
    "    x_offset = [source, destination]\n",
    "    source_height: height from bottom to aspirate\n",
    "    mix_height: height from bottom to dispense\n",
    "    '''\n",
    "    if mix_height == 0:\n",
    "        mix_height = 3\n",
    "    pipet.aspirate(1, \n",
    "                   location=location.bottom(z=source_height).move(Point(x=x_offset[0])), \n",
    "                   rate=reagent.flow_rate_aspirate)\n",
    "    for _ in range(rounds):\n",
    "        pipet.aspirate(vol, \n",
    "                       location=location.bottom(z=source_height).move(Point(x=x_offset[0])),\n",
    "                       rate=reagent.flow_rate_aspirate)\n",
    "        \n",
    "        pipet.dispense(vol, \n",
    "                       location=location.bottom(z=mix_height).move(Point(x=x_offset[1])),\n",
    "                       rate=reagent.flow_rate_dispense)\n",
    "        \n",
    "    pipet.dispense(1, \n",
    "                   location=location.bottom(z=mix_height).move(Point(x=x_offset[1])), \n",
    "                   rate=reagent.flow_rate_dispense)\n",
    "\n",
    "    if blow_out == True:\n",
    "        pipet.blow_out(location.top(z=-2))  # Blow out"
   ]
  },
  {
   "cell_type": "code",
   "execution_count": null,
   "metadata": {},
   "outputs": [],
   "source": [
    "##########\n",
    "# pick up tip and if there is none left, prompt user for a new rack\n",
    "def pick_up(pip):\n",
    "    #  nonlocal tip_track\n",
    "    if not ctx.is_simulating():\n",
    "        if tip_track['counts'][pip] == tip_track['maxes'][pip]:\n",
    "            ctx.pause('Replace ' + str(pip.max_volume) + 'µl tipracks before \\\n",
    "            resuming.')\n",
    "            pip.reset_tipracks()\n",
    "            tip_track['counts'][pip] = 0\n",
    "    pip.pick_up_tip()"
   ]
  },
  {
   "cell_type": "markdown",
   "metadata": {},
   "source": [
    "# Load labware and modules"
   ]
  },
  {
   "cell_type": "markdown",
   "metadata": {},
   "source": [
    "##  Load Sample racks"
   ]
  },
  {
   "cell_type": "code",
   "execution_count": null,
   "metadata": {},
   "outputs": [],
   "source": [
    "if NUM_SAMPLES < 96:\n",
    "    rack_num = math.ceil(NUM_SAMPLES / 24)\n",
    "    msg = 'Used source racks are ' + str(rack_num)\n",
    "    ctx.comment(msg)\n",
    "    print(msg)\n",
    "    samples_last_rack = NUM_SAMPLES - rack_num * 24\n",
    "else:\n",
    "    rack_num = 4"
   ]
  },
  {
   "cell_type": "code",
   "execution_count": null,
   "metadata": {},
   "outputs": [],
   "source": [
    "if five_ml_rack == True:\n",
    "    rack = 'ngny_tuberack_24_5ml'\n",
    "else:\n",
    "    #  rack = 'opentrons_24_tuberack_generic_2ml_screwcap'\n",
    "    rack = 'opentrons_24_tuberack_eppendorf_1.5ml_safelock_snapcap'\n",
    "\n",
    "# source_racks = [ctx.load_labware(rack, slot, 'source_tuberack_' + str(i + 1))\n",
    "#                 for i, slot in enumerate(['4', '1', '5', '2'][:rack_num])\n",
    "#                 ]"
   ]
  },
  {
   "cell_type": "code",
   "execution_count": null,
   "metadata": {},
   "outputs": [],
   "source": [
    "# Sources of binding Lysis\n",
    "reagent_rack = ctx.load_labware('opentrons_10_tuberack_falcon_4x50ml_6x15ml_conical', 6)\n",
    "binding_lysis_stock = reagent_rack.wells_by_name()[\"B4\"]\n",
    "\n",
    "# sources of samples\n",
    "plate_24_1 = ctx.load_labware('opentrons_24_tuberack_eppendorf_1.5ml_safelock_snapcap', 4 )\n",
    "plate_24_2 = ctx.load_labware('opentrons_24_tuberack_eppendorf_1.5ml_safelock_snapcap', 5 )\n",
    "plate_24_3 = ctx.load_labware('opentrons_24_tuberack_eppendorf_1.5ml_safelock_snapcap', 1 )\n",
    "plate_24_4 = ctx.load_labware('opentrons_24_tuberack_eppendorf_1.5ml_safelock_snapcap', 2 )\n",
    "\n",
    "source_racks = [ plate_24_1, plate_24_2, plate_24_3, plate_24_4 ]"
   ]
  },
  {
   "cell_type": "code",
   "execution_count": null,
   "metadata": {},
   "outputs": [],
   "source": [
    "source_racks"
   ]
  },
  {
   "cell_type": "markdown",
   "metadata": {},
   "source": [
    "## Importing custom labware in Jupyter notebook"
   ]
  },
  {
   "cell_type": "code",
   "execution_count": null,
   "metadata": {},
   "outputs": [],
   "source": [
    "with open('cherdeepwellkingfisher_96_wellplate_2000ul.json') as my_dw_P96_file:\n",
    "    ref_to_my_dw_P96_file = json.load(my_dw_P96_file)"
   ]
  },
  {
   "cell_type": "code",
   "execution_count": null,
   "metadata": {},
   "outputs": [],
   "source": [
    "##################################\n",
    "# Destination plate\n",
    "dest_plate = ctx.load_labware_from_definition(ref_to_my_dw_P96_file, 3, 'KF 96well destination plate')   # OK\n",
    "\n",
    "##################################\n",
    "# Load tip_racks\n",
    "tips1000 = [ctx.load_labware('opentrons_96_filtertiprack_1000ul', slot, '1000 µl filter tiprack')\n",
    "            for slot in ['10']]  # Replace by [7, 10, 11] forme example for other tipracks."
   ]
  },
  {
   "cell_type": "code",
   "execution_count": null,
   "metadata": {},
   "outputs": [],
   "source": []
  },
  {
   "cell_type": "markdown",
   "metadata": {},
   "source": [
    "# Deck summary"
   ]
  },
  {
   "cell_type": "code",
   "execution_count": null,
   "metadata": {},
   "outputs": [],
   "source": [
    "deck_summary(ctx)"
   ]
  },
  {
   "cell_type": "code",
   "execution_count": null,
   "metadata": {},
   "outputs": [],
   "source": [
    "################################################################################\n",
    "# Declare which reagents are in each reservoir as well as deepwell and elution plate\n",
    "\n",
    "# setup samples and destinations\n",
    "sample_sources_full = generate_source_table(source_racks)\n",
    "sample_sources = sample_sources_full[:NUM_SAMPLES]\n",
    "destinations = dest_plate.wells()[:NUM_SAMPLES]\n",
    "\n",
    "p1000 = ctx.load_instrument(\n",
    "    'p1000_single_gen2', 'left', tip_racks=tips1000)  # load P1000 pipette\n",
    "\n",
    "# used tip counter and set maximum tips available\n",
    "tip_track = {\n",
    "    'counts': {p1000: 0},  # p1000: 0},\n",
    "    'maxes': {p1000: len(tips1000) * 96}  # ,p20: len(tips20)*96,\n",
    "}"
   ]
  },
  {
   "cell_type": "markdown",
   "metadata": {},
   "source": [
    "# Distribution of binding solution"
   ]
  },
  {
   "cell_type": "markdown",
   "metadata": {},
   "source": [
    "## Distribute in several wells"
   ]
  },
  {
   "cell_type": "code",
   "execution_count": null,
   "metadata": {},
   "outputs": [],
   "source": [
    "nb_tests = 5"
   ]
  },
  {
   "cell_type": "code",
   "execution_count": null,
   "metadata": {},
   "outputs": [],
   "source": [
    "ctx.comment(\"**** Début distribution de binding solution\")\n",
    "p1000.distribute(260, binding_lysis_stock, reverse_order_wells(dest_plate, 8) [:nb_tests], disposal_volume=0, \n",
    "                 blowout_location = 'source well') "
   ]
  },
  {
   "cell_type": "code",
   "execution_count": null,
   "metadata": {},
   "outputs": [],
   "source": [
    "ctx.messages()"
   ]
  },
  {
   "cell_type": "markdown",
   "metadata": {},
   "source": [
    "## Add the same liquid in a few other wells"
   ]
  },
  {
   "cell_type": "code",
   "execution_count": null,
   "metadata": {},
   "outputs": [],
   "source": [
    "def distribute_reagent(volume, source, destination, nb_tests, skip_wells):\n",
    "    p1000.distribute(volume, source, destination[skip_wells:skip_wells+nb_tests], disposal_volume=0, \n",
    "                 blowout_location = 'source well')"
   ]
  },
  {
   "cell_type": "code",
   "execution_count": null,
   "metadata": {},
   "outputs": [],
   "source": [
    "distribute_reagent(260, binding_lysis_stock, reverse_order_wells(dest_plate, 8), nb_tests=3, skip_wells=12)"
   ]
  },
  {
   "cell_type": "code",
   "execution_count": null,
   "metadata": {},
   "outputs": [],
   "source": [
    "ctx.messages()"
   ]
  },
  {
   "cell_type": "markdown",
   "metadata": {},
   "source": [
    "## Control the height of pipetting \n",
    "We want to indicate to pipette in the source using differents heights, from top to bottom. This can be done using transfer() but is it possbible with distribute() ?  "
   ]
  },
  {
   "cell_type": "code",
   "execution_count": null,
   "metadata": {},
   "outputs": [],
   "source": [
    "nb_tests = 5"
   ]
  },
  {
   "cell_type": "code",
   "execution_count": null,
   "metadata": {},
   "outputs": [],
   "source": [
    "sources_lst = [ binding_lysis_stock.top(-2), binding_lysis_stock.top(-10), binding_lysis_stock.top(-20)]  "
   ]
  },
  {
   "cell_type": "code",
   "execution_count": null,
   "metadata": {},
   "outputs": [],
   "source": [
    "ctx.comment(\"**** Début distribution de binding solution\")\n",
    "\n",
    "\n",
    "p1000.distribute(260, sources_lst, reverse_order_wells(dest_plate, 8) [:nb_tests], disposal_volume=0, \n",
    "                 blowout_location = 'source well') "
   ]
  },
  {
   "cell_type": "code",
   "execution_count": null,
   "metadata": {},
   "outputs": [],
   "source": [
    "ctx.messages()"
   ]
  },
  {
   "cell_type": "code",
   "execution_count": null,
   "metadata": {},
   "outputs": [],
   "source": []
  },
  {
   "cell_type": "code",
   "execution_count": null,
   "metadata": {},
   "outputs": [],
   "source": [
    "binding_lysis_stock.top(-2)"
   ]
  },
  {
   "cell_type": "code",
   "execution_count": null,
   "metadata": {},
   "outputs": [],
   "source": []
  },
  {
   "cell_type": "markdown",
   "metadata": {},
   "source": [
    "# Add samples"
   ]
  },
  {
   "cell_type": "code",
   "execution_count": null,
   "metadata": {},
   "outputs": [],
   "source": []
  },
  {
   "cell_type": "code",
   "execution_count": null,
   "metadata": {},
   "outputs": [],
   "source": [
    "###########################################################################\n",
    "# STEP 1: Add Samples\n",
    "############################################################################\n",
    "\n",
    "nb_tests = 3\n",
    "\n",
    "\n",
    "STEP = 1\n",
    "\n",
    "if p1000.hw_pipette['has_tip']:    \n",
    "            p1000.drop_tip()\n",
    "\n",
    "if STEPS[STEP]['Execute'] == True:\n",
    "    \n",
    "    ctx.comment('Step ' + str(STEP) + ': ' + STEPS[STEP]['description'])\n",
    "    ctx.comment('###############################################')\n",
    "    # Transfer parameters\n",
    "    start = datetime.now()\n",
    "    placer = generator_for_4_racks_of_24(source_racks)\n",
    "\n",
    "    if input (\"Starting for {} samples ? (write : YES)\".format(nb_tests)) == \"YES\":\n",
    "        for idx in generate_wells_order(8, 12)[:nb_tests]:\n",
    "            if not p1000.hw_pipette['has_tip']:\n",
    "                pick_up(p1000)\n",
    "            input_well = placer.__next__()\n",
    "            print(\"Take from {}, and transfer to {}\".format(input_well, dest_plate.wells()[idx] ))\n",
    "            \n",
    "#             p1000.transfer(200, input_well, dest_plate.wells()[idx], blowout_location = 'destination well')\n",
    "            move_vol_multichannel(p1000, reagent=samples, source=input_well, dest=dest_plate.wells()[idx],\n",
    "                              vol=200, \n",
    "                              air_gap_vol=30, x_offset = x_offset,\n",
    "                              pickup_height=2, \n",
    "                              rinse = True,\n",
    "                              # rinse = samples.rinse,\n",
    "                              disp_height = -15,\n",
    "                              blow_out = True, touch_tip = False, verbose = True)\n",
    "            p1000.drop_tip()\n",
    "            tip_track['counts'][p1000] += 1 \n",
    "            print()\n",
    "            # Time statistics\n",
    "    end = datetime.now()\n",
    "    time_taken = (end - start)\n",
    "    comment = 'Step ' + str(STEP) + ': ' + STEPS[STEP]['description'] +  'took ' + str(time_taken)\n",
    "    ctx.comment(comment)\n",
    "    print(comment)\n",
    "    STEPS[STEP]['Time:'] = str(time_taken)"
   ]
  },
  {
   "cell_type": "code",
   "execution_count": null,
   "metadata": {},
   "outputs": [],
   "source": [
    "ctx.home()"
   ]
  },
  {
   "cell_type": "code",
   "execution_count": null,
   "metadata": {},
   "outputs": [],
   "source": []
  },
  {
   "cell_type": "code",
   "execution_count": null,
   "metadata": {},
   "outputs": [],
   "source": []
  },
  {
   "cell_type": "markdown",
   "metadata": {},
   "source": [
    "# Je refais la fonction de calcul\n",
    "Je veux que la fonction de calclu dépende de mesures plus simples à prendre. Il est plus simple de mesurer une hauteur ou un dimaètre qu'une surface. \n",
    "J'ai un tube cylindrique à fond conique. \n",
    "  - section sup du diamètre sup\n",
    "  - hauteur du cone"
   ]
  },
  {
   "cell_type": "code",
   "execution_count": null,
   "metadata": {},
   "outputs": [],
   "source": [
    "binding_solution = Reagent(name = 'Binding solution',\n",
    "                  flow_rate_aspirate = 0.5,\n",
    "                  flow_rate_dispense = 0.5,\n",
    "                  rinse = False,\n",
    "                  delay = 1,\n",
    "                  reagent_reservoir_volume = 10000, # 10 ml   \n",
    "                  num_wells = 1,  # num_cols comes from available columns\n",
    "                  h_cono = 46,\n",
    "                  v_fondo = 46 * math.pi * 9*9 /3,  # (cone)\n",
    "                           #    4 * math.pi * 4**3 / 3 (sphere)\n",
    "                  rsup_cono= 17.82/2\n",
    "                          )  # for a \n",
    "\n",
    "\n",
    "binding_solution.vol_well = 10000"
   ]
  },
  {
   "cell_type": "code",
   "execution_count": null,
   "metadata": {},
   "outputs": [],
   "source": [
    "def get_height(reagent, aspirate_volume, min_height=0.5):  \n",
    "    \"\"\"return the height in mm of the top of the liquid\"\"\"\n",
    "    # géométrie du cone : \n",
    "    # hauteur max_du_cone\n",
    "    # diamètre max d_ cone\n",
    "    verbose = True  if reagent.vol_well < 500 else False\n",
    "    \n",
    "    cone_height = reagent.h_cono\n",
    "    cone_radius = reagent.rsup_cono # 17.82/2  # measured\n",
    "            \n",
    "    if verbose : ctx.comment('\\nRemaining volume: ' + str(reagent.vol_well) +\n",
    "                '  Needed volume: ' + str(aspirate_volume));\n",
    "        \n",
    "    # Le puits est-il assez remplis pour fournir le volume demandé ?\n",
    "    if reagent.vol_well > aspirate_volume:\n",
    "        col_change = False\n",
    "    else: \n",
    "        reagent.unused.append(reagent.vol_well)\n",
    "        if verbose : \n",
    "            ctx.comment('Next column should be picked')\n",
    "            ctx.comment('Previous to change: ' + str(reagent.col))\n",
    "            ctx.comment('Next column should be picked')\n",
    "            ctx.comment('Previous to change: ' + str(reagent.col))\n",
    "        col_change = True\n",
    "        \n",
    "        # Volume in the Weel \n",
    "        \n",
    "    col_in_well = reagent.vol_well\n",
    "    end_vol = reagent.vol_well - aspirate_volume\n",
    "    \n",
    " \n",
    "    if reagent.vol_well > reagent.v_cono :\n",
    "#     if end_vol > reagent.v_cono : \n",
    "        if verbose: print(\"Cylinder part\");\n",
    "        # on est dans la partie cylindrique\n",
    "        sup_vol = reagent.vol_well - reagent.v_cono\n",
    "        if verbose : print(\"Le volume dans la partie supérieure est de : \", sup_vol);\n",
    "        h = reagent.h_cono + sup_vol / (cone_radius * cone_radius * math.pi)\n",
    "\n",
    "    else:  \n",
    "        if verbose: print(\"Conical part\");\n",
    "        # On est dans le cone\n",
    "        h = math.pow(3 * reagent.vol_well \n",
    "                     /(math.pi * cone_radius **2  / (cone_height ** 2)), 1/3)\n",
    "    if verbose: print(\"h\", h);\n",
    "    if h < min_height:\n",
    "       h = min_height\n",
    "            \n",
    "    reagent.vol_well = reagent.vol_well - aspirate_volume\n",
    "    return h, col_change"
   ]
  },
  {
   "cell_type": "markdown",
   "metadata": {},
   "source": [
    "# Evolution of height according to pipetting occurence"
   ]
  },
  {
   "cell_type": "code",
   "execution_count": null,
   "metadata": {},
   "outputs": [],
   "source": [
    "from matplotlib import pyplot as plt\n",
    "import numpy as np\n",
    "%pylab inline"
   ]
  },
  {
   "cell_type": "code",
   "execution_count": null,
   "metadata": {},
   "outputs": [],
   "source": [
    "binding_solution = Reagent(name = 'Binding solution',\n",
    "                  flow_rate_aspirate = 0.5,\n",
    "                  flow_rate_dispense = 0.5,\n",
    "                  rinse = False,\n",
    "                  delay = 1,\n",
    "                  reagent_reservoir_volume = 10000, # 10 ml   \n",
    "                  num_wells = 1,  # num_cols comes from available columns\n",
    "                  h_cono = 46,\n",
    "                  v_fondo = 46 * math.pi / 3  * (17.82/2) ** 2 ,  # (cone)\n",
    "                           #    4 * math.pi * 4**3 / 3 (sphere)\n",
    "                  rsup_cono = 17.82/2  # radius of the cone\n",
    "                          )  # for a \n",
    "\n",
    "binding_solution.vol_well = 10000"
   ]
  },
  {
   "cell_type": "code",
   "execution_count": null,
   "metadata": {},
   "outputs": [],
   "source": [
    "x = []\n",
    "heights = []\n",
    "for pip in np.arange(1, 45):\n",
    "    print(pip)\n",
    "    x.append(pip)\n",
    "    try:\n",
    "        [h, _] = get_height(binding_solution, 260)\n",
    "        heights.append(h)\n",
    "    except:\n",
    "        pass"
   ]
  },
  {
   "cell_type": "code",
   "execution_count": null,
   "metadata": {},
   "outputs": [],
   "source": [
    "x_ok = x[:len(heights)]\n",
    "plt.plot(x_ok , heights)\n",
    "plt.show() # pour afficher."
   ]
  },
  {
   "cell_type": "markdown",
   "metadata": {},
   "source": [
    "# Conditions limites"
   ]
  },
  {
   "cell_type": "code",
   "execution_count": null,
   "metadata": {},
   "outputs": [],
   "source": [
    "binding_solution = Reagent(name = 'Binding solution',\n",
    "                  flow_rate_aspirate = 0.5,\n",
    "                  flow_rate_dispense = 0.5,\n",
    "                  rinse = False,\n",
    "                  delay = 1,\n",
    "                  reagent_reservoir_volume = 10000, # 10 ml   \n",
    "                  num_wells = 1,  # num_cols comes from available columns\n",
    "                  h_cono = 46,\n",
    "                  v_fondo = 46 * math.pi / 3  * (17.82/2) ** 2 ,  # (cone)\n",
    "                           #    4 * math.pi * 4**3 / 3 (sphere)\n",
    "                  rsup_cono = 17.82/2  # radius of the cone\n",
    "                          )  # for a \n",
    "\n",
    "binding_solution.vol_well = 2000"
   ]
  },
  {
   "cell_type": "code",
   "execution_count": null,
   "metadata": {},
   "outputs": [],
   "source": [
    "get_height(binding_solution, aspirate_volume=0, min_height=0)"
   ]
  },
  {
   "cell_type": "markdown",
   "metadata": {},
   "source": [
    "# Mesure réelle de la hauteur du liquide en fonction du volume"
   ]
  },
  {
   "cell_type": "code",
   "execution_count": null,
   "metadata": {},
   "outputs": [],
   "source": [
    "# Following is list of measures : (volume of liquid put in the vial, measured height in mm)\n",
    "mesures = [   [0, 0]\n",
    "            , [50, 5]\n",
    "            , [100, 8]\n",
    "            , [150, 10]\n",
    "            , [200, 11.5]\n",
    "            , [400, 16]\n",
    "            , [600, 20]\n",
    "            , [800, 22.5]    \n",
    "            , [1000, 25.5]\n",
    "            , [2000, 33.5]\n",
    "            , [3000, 40]\n",
    "            , [5000, 48.5]\n",
    "            , [6000, 53]\n",
    "            , [7000, 57.5]\n",
    "            , [8000, 61.5]\n",
    "           ]\n",
    "# Ci-dessus, on lit que pour 2 ml, la hauteur de liquide est de 33.5 mm."
   ]
  },
  {
   "cell_type": "code",
   "execution_count": null,
   "metadata": {},
   "outputs": [],
   "source": [
    "ul_lst, mm_lst =zip(*mesures)"
   ]
  },
  {
   "cell_type": "code",
   "execution_count": null,
   "metadata": {},
   "outputs": [],
   "source": [
    "plt.plot(ul_lst, mm_lst)\n",
    "plt.xlabel(\"µl\")\n",
    "plt.ylabel(\"mm\")\n",
    "plt.show()"
   ]
  },
  {
   "cell_type": "markdown",
   "metadata": {},
   "source": [
    "# Ecart (fit) entre théorie et mesure"
   ]
  },
  {
   "cell_type": "code",
   "execution_count": null,
   "metadata": {},
   "outputs": [],
   "source": [
    "a_reagent = Reagent(name = 'Binding solution',\n",
    "                  flow_rate_aspirate = 0.5,\n",
    "                  flow_rate_dispense = 0.5,\n",
    "                  rinse = False,\n",
    "                  delay = 1,\n",
    "                  reagent_reservoir_volume = 10000, # 10 ml   \n",
    "                  num_wells = 1,  # num_cols comes from available columns\n",
    "                  h_cono = 46,\n",
    "                  v_fondo = 46 * math.pi / 3  * (17.82/2) ** 2 ,  # (cone)\n",
    "                           #    4 * math.pi * 4**3 / 3 (sphere)\n",
    "                  rsup_cono = 17.82/2  # radius of the cone\n",
    "                          )  # for a \n",
    "    \n",
    "def calcul_hauteur_theorique(reagent, volume):\n",
    "    reagent.vol_well = volume\n",
    "    h, _ = get_height(reagent, aspirate_volume=volume, min_height=0)\n",
    "    return h"
   ]
  },
  {
   "cell_type": "code",
   "execution_count": null,
   "metadata": {},
   "outputs": [],
   "source": [
    "calcul_hauteur_theorique(a_reagent,2000)"
   ]
  },
  {
   "cell_type": "code",
   "execution_count": null,
   "metadata": {},
   "outputs": [],
   "source": [
    "theo = []\n",
    "delta = []\n",
    "for i, (vol, mesure_mm) in enumerate(mesures):\n",
    "    th = calcul_hauteur_theorique(a_reagent, volume=vol)\n",
    "    dlt = th - mesure_mm\n",
    "    theo.append(th)\n",
    "    delta.append(dlt)"
   ]
  },
  {
   "cell_type": "code",
   "execution_count": null,
   "metadata": {},
   "outputs": [],
   "source": [
    "delta"
   ]
  },
  {
   "cell_type": "code",
   "execution_count": null,
   "metadata": {},
   "outputs": [],
   "source": [
    "for a in zip(ul_lst, theo, mm_lst, delta): \n",
    "    print (\"\\t\".join(map(str, a)))"
   ]
  },
  {
   "cell_type": "code",
   "execution_count": null,
   "metadata": {},
   "outputs": [],
   "source": [
    "plt.plot(ul_lst[1:], delta[1:])\n",
    "plt.show()"
   ]
  },
  {
   "cell_type": "markdown",
   "metadata": {},
   "source": [
    "On va maintenant utiliser la courbe mesurée pour corriger l'équation théorique. Pour un volume donné, on cherche le volume mesuré juste au dessus et on retire la valeur de l'écart (et si on est en fin de liste, on retient la dernière corection)"
   ]
  },
  {
   "cell_type": "code",
   "execution_count": null,
   "metadata": {},
   "outputs": [],
   "source": [
    "def corrected_heigth(vol):\n",
    "    th = calcul_hauteur_theorique(a_reagent, volume=vol)\n",
    "    # Chercher le couple dont la première valeur est supérieure \n",
    "    AA = [ elt[0] for elt in mesures if elt[0]  < vol]\n",
    "    position_of_correction = len(AA)\n",
    "    if position_of_correction >= len(delta):\n",
    "        position_of_correction -= 1\n",
    "    return th - delta[position_of_correction]\n",
    "    \n",
    "corrected_heigth(10000)"
   ]
  },
  {
   "cell_type": "markdown",
   "metadata": {},
   "source": [
    "# Application de la formule corrigée et confrontation aux mesures"
   ]
  },
  {
   "cell_type": "code",
   "execution_count": null,
   "metadata": {},
   "outputs": [],
   "source": [
    "corrected_heights = []\n",
    "corrected_deltas = []\n",
    "for i, (vol, mesure_mm) in enumerate(mesures):\n",
    "    th = corrected_heigth(vol)\n",
    "    dlt = th - mesure_mm\n",
    "    corrected_heights.append(th)\n",
    "    corrected_deltas.append(dlt)"
   ]
  },
  {
   "cell_type": "code",
   "execution_count": null,
   "metadata": {},
   "outputs": [],
   "source": [
    "for a in zip(ul_lst, theo, mm_lst, delta, corrected_heights, corrected_deltas): \n",
    "    print (\"\\t\".join(map(str, a)))"
   ]
  },
  {
   "cell_type": "code",
   "execution_count": null,
   "metadata": {},
   "outputs": [],
   "source": []
  },
  {
   "cell_type": "markdown",
   "metadata": {},
   "source": [
    "# Maintenant, nous devons proposer une hauteur réelle de pipetage et un flag de changement de flacon"
   ]
  },
  {
   "cell_type": "code",
   "execution_count": null,
   "metadata": {},
   "outputs": [],
   "source": [
    "theo = []\n",
    "delta = []\n",
    "for i, (vol, mesure_mm) in enumerate(mesures):\n",
    "    th = calcul_hauteur_theorique(a_reagent, volume=vol)\n",
    "    dlt = th - mesure_mm\n",
    "    theo.append(th)\n",
    "    delta.append(dlt)"
   ]
  },
  {
   "cell_type": "code",
   "execution_count": null,
   "metadata": {},
   "outputs": [],
   "source": [
    "def get_pipetting_height(reagent, aspirate_volume, min_height=0.5, \n",
    "                         min_height_for_correction=0, z_offset = -2, measured_values=None, deltas=None):  \n",
    "    \"\"\"return the height as a positive value in mm where liquid will be pipetted\n",
    "    this values is zeroed at the bottom of the vial.\n",
    "    z_offset = (usually neg value in mm) : diminish height in order to secure pipetting.\n",
    "    \n",
    "    measured_values : (list of list)  : [[ml1, mm1]; [ml2, mm2]...]\n",
    "        ml1 : volume 1 in microl put in the vial, \n",
    "        mm1 : height measure in mm\n",
    "        ml2 : volume 2 in microl put in the vial, \n",
    "        mm2 : height measure in mm\n",
    "    if measured_values and deltas are set, a corresponding value (delta) is substracted to improve the \n",
    "    theoretical value\n",
    "    \n",
    "    min_height_for_correction (mm) : below this value, there is no advantage to optimize pipetting height ; \n",
    "    so return min_height.\n",
    "    \"\"\"\n",
    "    # géométrie du cone : \n",
    "    # hauteur max_du_cone\n",
    "    # diamètre max d_ cone\n",
    "    verbose = True if reagent.vol_well < 300 else False\n",
    "    \n",
    "    cone_height = reagent.h_cono\n",
    "    cone_radius = reagent.rsup_cono\n",
    "            \n",
    "    if verbose : ctx.comment('\\nRemaining volume: ' + str(reagent.vol_well) +\n",
    "                '  Needed volume: ' + str(aspirate_volume));\n",
    "        \n",
    "    # Le puits est-il assez remplis pour fournir le volume demandé ?\n",
    "    if reagent.vol_well > aspirate_volume:\n",
    "        col_change = False\n",
    "    else: \n",
    "        reagent.unused.append(reagent.vol_well)\n",
    "        if verbose : \n",
    "            ctx.comment('Next column should be picked')\n",
    "            ctx.comment('Previous to change: ' + str(reagent.col))\n",
    "            ctx.comment('Next column should be picked')\n",
    "            ctx.comment('Previous to change: ' + str(reagent.col))\n",
    "        col_change = True\n",
    "        \n",
    "    # col_in_well = reagent.vol_well\n",
    "    vol_at_end_of_pipetting = reagent.vol_well - aspirate_volume\n",
    "    if verbose : print(\"vol_at_end_of_pipetting\", vol_at_end_of_pipetting) ; \n",
    "    if (reagent.vol_well -  aspirate_volume) > reagent.v_cono :\n",
    "        # we are in the top part\n",
    "        if verbose: print(\"Cylinder part\");\n",
    "        sup_vol = vol_at_end_of_pipetting - reagent.v_cono\n",
    "        if verbose : print(\"Volume in top part of container : \", sup_vol);\n",
    "        theoretical_h = reagent.h_cono + (vol_at_end_of_pipetting - reagent.v_cono) / (cone_radius * cone_radius * math.pi)\n",
    "    else:  \n",
    "        if verbose: print(\"Conical part\");\n",
    "        # On est dans le cone\n",
    "        theoretical_h = math.pow(3 * vol_at_end_of_pipetting\n",
    "                     /(math.pi * cone_radius **2  / (cone_height ** 2)), 1/3)\n",
    "\n",
    "    if verbose: print(\"theoretical_h\", theoretical_h);\n",
    "            \n",
    "    # update reagent volume\n",
    "    reagent.vol_well = reagent.vol_well - aspirate_volume\n",
    "\n",
    "    h = theoretical_h\n",
    "    \n",
    "    # correction by a set of measures :     \n",
    "    if measured_values and deltas:\n",
    "        AA = [ measure[0] for measure in measured_values if measure[0]  < vol_at_end_of_pipetting]\n",
    "        position_of_correction = len(AA)\n",
    "        if position_of_correction >= len(delta):\n",
    "           position_of_correction -= 1\n",
    "        if verbose: \n",
    "            print(\"position_of_correction\", position_of_correction, \n",
    "                  \"Valeur de correction\", delta[position_of_correction])\n",
    "        h = theoretical_h - delta[position_of_correction]\n",
    "    \n",
    "    if h < min_height_for_correction:\n",
    "        h = 0\n",
    "                \n",
    "    if h < min_height:\n",
    "         h = min_height\n",
    "  \n",
    "    return h, col_change"
   ]
  },
  {
   "cell_type": "code",
   "execution_count": null,
   "metadata": {},
   "outputs": [],
   "source": [
    "my_solution = Reagent(name = 'Binding solution',\n",
    "                  flow_rate_aspirate = 0.5,\n",
    "                  flow_rate_dispense = 0.5,\n",
    "                  rinse = False,\n",
    "                  delay = 1,\n",
    "                  reagent_reservoir_volume = 10000, # 10 ml   \n",
    "                  num_wells = 1,  # num_cols comes from available columns\n",
    "                  h_cono = 46,\n",
    "                  v_fondo = 46 * math.pi / 3  * (17.82/2) ** 2 ,  # (cone)\n",
    "                           #    4 * math.pi * 4**3 / 3 (sphere)\n",
    "                  rsup_cono = 17.82/2  # radius of the cone\n",
    "                          )  # for a \n",
    "\n",
    "my_solution.vol_well = 8000\n",
    "volume = 150\n",
    "\n",
    "print(get_pipetting_height(my_solution, aspirate_volume=volume))\n",
    "print()\n",
    "\n",
    "get_pipetting_height(my_solution, aspirate_volume=volume, measured_values=mesures, \n",
    "                     deltas=delta, min_height_for_correction=10, min_height=0.5)"
   ]
  },
  {
   "cell_type": "markdown",
   "metadata": {},
   "source": [
    "# Use this method to optimize the distribution of binding solution."
   ]
  },
  {
   "cell_type": "code",
   "execution_count": null,
   "metadata": {},
   "outputs": [],
   "source": [
    "if p1000.hw_pipette['has_tip']:\n",
    "    p1000.drop_tip()"
   ]
  },
  {
   "cell_type": "code",
   "execution_count": null,
   "metadata": {},
   "outputs": [],
   "source": [
    "distribute_nb = math.ceil(nb_tests / 2)\n",
    "\n",
    "source_lst = [binding_lysis_stock.bottom(50-20*i) for i in range(distribute_nb)]"
   ]
  },
  {
   "cell_type": "code",
   "execution_count": null,
   "metadata": {},
   "outputs": [],
   "source": [
    "p1000.pick_up_tip()\n",
    "for i, sub_lst in enumerate(chunks(reverse_order_wells(dest_plate, 8)[:nb_tests], 2)):\n",
    "    print(sub_lst)\n",
    "    p1000.distribute(260, source_lst[i], sub_lst, \n",
    "                     blowout_location = 'source well', disposal_volume=0,\n",
    "                     new_tip='never'\n",
    "                    )"
   ]
  },
  {
   "cell_type": "markdown",
   "metadata": {},
   "source": [
    "# Use this method to optimize the distribution of binding solution (2)"
   ]
  },
  {
   "cell_type": "code",
   "execution_count": null,
   "metadata": {},
   "outputs": [],
   "source": [
    "if p1000.hw_pipette['has_tip']:\n",
    "    p1000.drop_tip()"
   ]
  },
  {
   "cell_type": "code",
   "execution_count": null,
   "metadata": {},
   "outputs": [],
   "source": [
    "nb_tests = 30\n",
    "distribute_nb = math.ceil(nb_tests / 3) # MANUAL\n",
    "volume = 260\n",
    "volume_initial_reactif = 8000\n",
    "nb_disp_per_distribution = 3 # this is manual\n",
    "volume_per_distribution = volume * nb_disp_per_distribution"
   ]
  },
  {
   "cell_type": "code",
   "execution_count": null,
   "metadata": {},
   "outputs": [],
   "source": [
    "# summary\n",
    "distribute_nb"
   ]
  },
  {
   "cell_type": "code",
   "execution_count": null,
   "metadata": {},
   "outputs": [],
   "source": [
    "# combine de puis au maximum \n",
    "volume_initial_reactif / volume"
   ]
  },
  {
   "cell_type": "code",
   "execution_count": null,
   "metadata": {},
   "outputs": [],
   "source": [
    "my_solution = Reagent(name = 'Binding solution',\n",
    "                  flow_rate_aspirate = 0.5,\n",
    "                  flow_rate_dispense = 0.5,\n",
    "                  rinse = False,\n",
    "                  delay = 1,\n",
    "                  reagent_reservoir_volume = 10000, # 10 ml   \n",
    "                  num_wells = 1,  # num_cols comes from available columns\n",
    "                  h_cono = 46,\n",
    "                  v_fondo = 46 * math.pi / 3  * (17.82/2) ** 2 ,  # (cone)\n",
    "                           #    4 * math.pi * 4**3 / 3 (sphere)\n",
    "                  rsup_cono = 17.82/2  # radius of the cone\n",
    "                          )  # for a \n",
    "\n",
    "my_solution.vol_well = volume_initial_reactif"
   ]
  },
  {
   "cell_type": "code",
   "execution_count": null,
   "metadata": {},
   "outputs": [],
   "source": [
    "volume_per_distribution"
   ]
  },
  {
   "cell_type": "code",
   "execution_count": null,
   "metadata": {},
   "outputs": [],
   "source": [
    "\"\"\"get_pipetting_height(my_solution, aspirate_volume=volume_per_distribution, measured_values=mesures, \n",
    "                     deltas=delta, min_height_for_correction=10, min_height=0.5)\"\"\""
   ]
  },
  {
   "cell_type": "code",
   "execution_count": null,
   "metadata": {},
   "outputs": [],
   "source": [
    "\"\"\"source_lst = [binding_lysis_stock.bottom(get_pipetting_height(my_solution, \n",
    "                                                              aspirate_volume=volume_per_distribution, \n",
    "                                                              measured_values=mesures,\n",
    "                                                              deltas=delta, \n",
    "                                                              min_height_for_correction=10, \n",
    "                                                              min_height=0.5)) \n",
    "              for i in range(distribute_nb)]\"\"\"\n",
    "source_lst = []\n",
    "for i in range(distribute_nb):\n",
    "    height, _ = get_pipetting_height(my_solution, \n",
    "                                   aspirate_volume=volume_per_distribution, \n",
    "                                   measured_values=mesures,\n",
    "                                   deltas=delta, \n",
    "                                   min_height_for_correction=10, \n",
    "                                   min_height=0.5)\n",
    "    print(\"occurence of pipetting = {}, height= {}\".format(i+1, height))\n",
    "    source_lst.append(binding_lysis_stock.bottom(vol))"
   ]
  },
  {
   "cell_type": "code",
   "execution_count": null,
   "metadata": {},
   "outputs": [],
   "source": [
    "# combien peut-on distribuer de fois 260 µl avec un flacon de 8 ml  ? \n",
    "8000 / 260"
   ]
  },
  {
   "cell_type": "code",
   "execution_count": null,
   "metadata": {},
   "outputs": [],
   "source": [
    "\"\"\"source_lst = [binding_lysis_stock.bottom(50), \n",
    "             binding_lysis_stock.bottom(40), \n",
    "             binding_lysis_stock.bottom(30), \n",
    "             ]\"\"\"\n",
    "p1000.pick_up_tip()\n",
    "\n",
    "for i, sub_lst in enumerate(chunks(reverse_order_wells(dest_plate, 8)[:nb_tests], nb_disp_per_distribution)):\n",
    "    print(sub_lst)\n",
    "    p1000.distribute(volume, source_lst[i], sub_lst, \n",
    "                     blowout_location = 'source well', disposal_volume=0,\n",
    "                     new_tip='never'\n",
    "                    )"
   ]
  },
  {
   "cell_type": "code",
   "execution_count": null,
   "metadata": {},
   "outputs": [],
   "source": []
  },
  {
   "cell_type": "code",
   "execution_count": null,
   "metadata": {},
   "outputs": [],
   "source": []
  },
  {
   "cell_type": "code",
   "execution_count": null,
   "metadata": {},
   "outputs": [],
   "source": []
  }
 ],
 "metadata": {
  "kernelspec": {
   "display_name": "Python 3",
   "language": "python",
   "name": "python3"
  },
  "language_info": {
   "codemirror_mode": {
    "name": "ipython",
    "version": 3
   },
   "file_extension": ".py",
   "mimetype": "text/x-python",
   "name": "python",
   "nbconvert_exporter": "python",
   "pygments_lexer": "ipython3",
   "version": "3.8.6"
  }
 },
 "nbformat": 4,
 "nbformat_minor": 2
}
