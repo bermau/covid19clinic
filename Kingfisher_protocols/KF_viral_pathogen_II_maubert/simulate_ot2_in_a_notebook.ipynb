{
 "cells": [
  {
   "cell_type": "markdown",
   "metadata": {},
   "source": [
    "# A notebook to write protocols without an OT-2"
   ]
  },
  {
   "cell_type": "code",
   "execution_count": 4,
   "metadata": {},
   "outputs": [
    {
     "name": "stderr",
     "output_type": "stream",
     "text": [
      "/home/bertrand/.opentrons/robot_settings.json not found. Loading defaults\n",
      "/home/bertrand/.opentrons/deck_calibration.json not found. Loading defaults\n"
     ]
    },
    {
     "name": "stdout",
     "output_type": "stream",
     "text": [
      "Picking up tip from A1 of Opentrons 96 Tip Rack 300 µL on 1\n",
      "Aspirating 100.0 uL from A1 of Corning 96 Well Plate 360 µL Flat on 2 at 150.0 uL/sec\n",
      "Dispensing 100.0 uL into B2 of Corning 96 Well Plate 360 µL Flat on 2 at 300.0 uL/sec\n",
      "Dropping tip into A1 of Opentrons Fixed Trash on 12\n"
     ]
    }
   ],
   "source": [
    "from opentrons import protocol_api\n",
    "from opentrons import simulate\n",
    " \n",
    "protocol = simulate.get_protocol_api('2.2')\n",
    "p300 = protocol.load_instrument('p300_single', 'right')\n",
    "metadata = {\n",
    "    'protocolName': 'My Protocol',\n",
    "    'author': 'Name <email@address.com>',\n",
    "    'description': 'Simple protocol to get started using OT2',\n",
    "    'apiLevel': '2.9'\n",
    "}\n",
    " \n",
    "# protocol run function. the part after the colon lets your editor know\n",
    "# where to look for autocomplete suggestions\n",
    "def run(protocol: protocol_api.ProtocolContext):\n",
    " \n",
    "    # labware\n",
    "    plate = protocol.load_labware('corning_96_wellplate_360ul_flat', '2')\n",
    "    tiprack = protocol.load_labware('opentrons_96_tiprack_300ul', '1')\n",
    " \n",
    "    # pipettes\n",
    "    left_pipette = protocol.load_instrument(\n",
    "         'p300_single', 'left', tip_racks=[tiprack])\n",
    " \n",
    "    # commands\n",
    "    left_pipette.pick_up_tip()\n",
    "    left_pipette.aspirate(100, plate['A1'])\n",
    "    left_pipette.dispense(100, plate['B2'])\n",
    "    left_pipette.drop_tip()\n",
    " \n",
    "run(protocol)\n",
    " \n",
    "for line in protocol.commands(): \n",
    "    print(line)"
   ]
  }
 ],
 "metadata": {
  "kernelspec": {
   "display_name": "Python 3",
   "language": "python",
   "name": "python3"
  },
  "language_info": {
   "codemirror_mode": {
    "name": "ipython",
    "version": 3
   },
   "file_extension": ".py",
   "mimetype": "text/x-python",
   "name": "python",
   "nbconvert_exporter": "python",
   "pygments_lexer": "ipython3",
   "version": "3.8.6"
  }
 },
 "nbformat": 4,
 "nbformat_minor": 2
}
